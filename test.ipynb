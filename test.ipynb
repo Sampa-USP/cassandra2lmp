{
 "cells": [
  {
   "cell_type": "code",
   "execution_count": 1,
   "id": "6483776d",
   "metadata": {},
   "outputs": [],
   "source": [
    "import tqdm\n"
   ]
  },
  {
   "cell_type": "code",
   "execution_count": 2,
   "id": "0eb46f1f",
   "metadata": {},
   "outputs": [
    {
     "ename": "FileNotFoundError",
     "evalue": "[Errno 2] No such file or directory: 'sio2.lmp'",
     "output_type": "error",
     "traceback": [
      "\u001b[0;31m---------------------------------------------------------------------------\u001b[0m",
      "\u001b[0;31mFileNotFoundError\u001b[0m                         Traceback (most recent call last)",
      "Cell \u001b[0;32mIn[2], line 1\u001b[0m\n\u001b[0;32m----> 1\u001b[0m file \u001b[38;5;241m=\u001b[39m \u001b[38;5;28;43mopen\u001b[39;49m\u001b[43m(\u001b[49m\u001b[38;5;124;43m\"\u001b[39;49m\u001b[38;5;124;43msio2.lmp\u001b[39;49m\u001b[38;5;124;43m\"\u001b[39;49m\u001b[43m,\u001b[49m\u001b[38;5;124;43m'\u001b[39;49m\u001b[38;5;124;43mr\u001b[39;49m\u001b[38;5;124;43m'\u001b[39;49m\u001b[43m)\u001b[49m\u001b[38;5;241m.\u001b[39mread()\u001b[38;5;241m.\u001b[39msplit(\u001b[38;5;124m\"\u001b[39m\u001b[38;5;130;01m\\n\u001b[39;00m\u001b[38;5;124m\"\u001b[39m)\n\u001b[1;32m      2\u001b[0m new_file \u001b[38;5;241m=\u001b[39m []\n",
      "File \u001b[0;32m~/.local/lib/python3.10/site-packages/IPython/core/interactiveshell.py:282\u001b[0m, in \u001b[0;36m_modified_open\u001b[0;34m(file, *args, **kwargs)\u001b[0m\n\u001b[1;32m    275\u001b[0m \u001b[38;5;28;01mif\u001b[39;00m file \u001b[38;5;129;01min\u001b[39;00m {\u001b[38;5;241m0\u001b[39m, \u001b[38;5;241m1\u001b[39m, \u001b[38;5;241m2\u001b[39m}:\n\u001b[1;32m    276\u001b[0m     \u001b[38;5;28;01mraise\u001b[39;00m \u001b[38;5;167;01mValueError\u001b[39;00m(\n\u001b[1;32m    277\u001b[0m         \u001b[38;5;124mf\u001b[39m\u001b[38;5;124m\"\u001b[39m\u001b[38;5;124mIPython won\u001b[39m\u001b[38;5;124m'\u001b[39m\u001b[38;5;124mt let you open fd=\u001b[39m\u001b[38;5;132;01m{\u001b[39;00mfile\u001b[38;5;132;01m}\u001b[39;00m\u001b[38;5;124m by default \u001b[39m\u001b[38;5;124m\"\u001b[39m\n\u001b[1;32m    278\u001b[0m         \u001b[38;5;124m\"\u001b[39m\u001b[38;5;124mas it is likely to crash IPython. If you know what you are doing, \u001b[39m\u001b[38;5;124m\"\u001b[39m\n\u001b[1;32m    279\u001b[0m         \u001b[38;5;124m\"\u001b[39m\u001b[38;5;124myou can use builtins\u001b[39m\u001b[38;5;124m'\u001b[39m\u001b[38;5;124m open.\u001b[39m\u001b[38;5;124m\"\u001b[39m\n\u001b[1;32m    280\u001b[0m     )\n\u001b[0;32m--> 282\u001b[0m \u001b[38;5;28;01mreturn\u001b[39;00m \u001b[43mio_open\u001b[49m\u001b[43m(\u001b[49m\u001b[43mfile\u001b[49m\u001b[43m,\u001b[49m\u001b[43m \u001b[49m\u001b[38;5;241;43m*\u001b[39;49m\u001b[43margs\u001b[49m\u001b[43m,\u001b[49m\u001b[43m \u001b[49m\u001b[38;5;241;43m*\u001b[39;49m\u001b[38;5;241;43m*\u001b[39;49m\u001b[43mkwargs\u001b[49m\u001b[43m)\u001b[49m\n",
      "\u001b[0;31mFileNotFoundError\u001b[0m: [Errno 2] No such file or directory: 'sio2.lmp'"
     ]
    }
   ],
   "source": [
    "file = open(\"sio2.lmp\",'r').read().split(\"\\n\")\n",
    "new_file = []"
   ]
  },
  {
   "cell_type": "code",
   "execution_count": 1,
   "id": "b69a92be",
   "metadata": {},
   "outputs": [],
   "source": [
    "sigma_h = {'h2o':0,\n",
    "          'oh' : .095 / (2**(1/6))}\n",
    "\n",
    "sigma_o = {'h2o' : 3.165492,\n",
    "          'oh' : 3.47 / (2**(1/6))}\n",
    "\n",
    "sigma_si = 4.15 / (2**(1/6)) \n",
    "\n",
    "eps_h = {'h2o':0,\n",
    "          'oh' : .095 / (2**(1/6))}\n",
    "\n",
    "eps_o = {'h2o' : 0.1554253,\n",
    "          'oh' : }\n",
    "\n",
    "eps_si = 4.15 / (2**(1/6)) \n",
    "\n",
    "\n",
    "bond_oh = {'h2o' : 1059.162 / 2,\n",
    "          'oh' : 495}\n",
    "\n",
    "\n",
    "bond_sio = 285\n",
    "bond_sio_r = 1.68\n",
    "\n",
    "angle_bond_osio = 100\n",
    "angle_theta_osio = 109.5\n",
    "\n",
    "angle_bond_siosi = 100\n",
    "angle_theta_siosi = 149\n",
    "\n",
    "angle_bond_hoh = 75.90 / 2\n",
    "angle_theta_hoh = 113.24 "
   ]
  },
  {
   "cell_type": "code",
   "execution_count": 4,
   "id": "3268a804",
   "metadata": {},
   "outputs": [
    {
     "ename": "NameError",
     "evalue": "name 'file' is not defined",
     "output_type": "error",
     "traceback": [
      "\u001b[0;31m---------------------------------------------------------------------------\u001b[0m",
      "\u001b[0;31mNameError\u001b[0m                                 Traceback (most recent call last)",
      "Cell \u001b[0;32mIn[4], line 1\u001b[0m\n\u001b[0;32m----> 1\u001b[0m \u001b[38;5;28;01mfor\u001b[39;00m line \u001b[38;5;129;01min\u001b[39;00m tqdm\u001b[38;5;241m.\u001b[39mtqdm(\u001b[43mfile\u001b[49m):\n\u001b[1;32m      2\u001b[0m     \u001b[38;5;28;01mif\u001b[39;00m \u001b[38;5;124m\"\u001b[39m\u001b[38;5;124meps\u001b[39m\u001b[38;5;130;01m\\t\u001b[39;00m\u001b[38;5;124msig\u001b[39m\u001b[38;5;130;01m\\t\u001b[39;00m\u001b[38;5;124m# O\u001b[39m\u001b[38;5;124m\"\u001b[39m \u001b[38;5;129;01min\u001b[39;00m line:\n\u001b[1;32m      3\u001b[0m         \u001b[38;5;28;01mbreak\u001b[39;00m\n",
      "\u001b[0;31mNameError\u001b[0m: name 'file' is not defined"
     ]
    }
   ],
   "source": [
    "for line in tqdm.tqdm(file):\n",
    "    if \"eps\\tsig\\t# O\" in line:\n",
    "        break\n",
    "    elif \"eps\\tsig\\t# H\" in line:\n",
    "        break\n",
    "    elif \"eps\\tsig\\t# Si\" in line:\n",
    "        break\n",
    "    \n",
    "    elif (\"K\\tr_0\\t# H - O\") in line or (\"K\\tr_0\\t# O - H\") in line:\n",
    "        break\n",
    "    elif (\"K\\tr_0\\t# Si - O\") in line or (\"K\\tr_0\\t# O - Si\") in line:\n",
    "        break\n",
    "        \n",
    "    elif 'K\\ttetha_0 (deg)\\t# Si - O - Si' in line:\n",
    "        break\n",
    "    \n",
    "    elif 'K\\ttetha_0 (deg)\\t# O - Si - O' in line:\n",
    "        break\n",
    "    \n",
    "    elif 'K\\ttetha_0 (deg)\\t# H - O - H' in line:\n",
    "        break\n",
    "    \n",
    "    new_file.append(line)\n",
    "new_file = \"\\n\".join(new_file)"
   ]
  },
  {
   "cell_type": "code",
   "execution_count": null,
   "id": "a0c46402",
   "metadata": {},
   "outputs": [],
   "source": []
  }
 ],
 "metadata": {
  "kernelspec": {
   "display_name": "Python 3 (ipykernel)",
   "language": "python",
   "name": "python3"
  },
  "language_info": {
   "codemirror_mode": {
    "name": "ipython",
    "version": 3
   },
   "file_extension": ".py",
   "mimetype": "text/x-python",
   "name": "python",
   "nbconvert_exporter": "python",
   "pygments_lexer": "ipython3",
   "version": "3.10.4"
  },
  "vscode": {
   "interpreter": {
    "hash": "916dbcbb3f70747c44a77c7bcd40155683ae19c65e1c03b4aa3499c5328201f1"
   }
  }
 },
 "nbformat": 4,
 "nbformat_minor": 5
}
