{
 "cells": [
  {
   "cell_type": "code",
   "execution_count": 8,
   "id": "2e844b65",
   "metadata": {},
   "outputs": [],
   "source": [
    "from utils.pdb2lmp import parse_mol_info\n",
    "from utils.utils import write_last\n",
    "from utils.rename_pdb import rename_oxygens_bonded_to_hydrogens\n",
    "\n",
    "from glob import glob\n",
    "from ase.io import read"
   ]
  },
  {
   "cell_type": "code",
   "execution_count": 7,
   "id": "86170462",
   "metadata": {},
   "outputs": [],
   "source": [
    "paths = glob(\"../cristobalite/*/gcmc_run*.xyz\")\n",
    "paths = [\"../gcmc_run_7.5.xyz\"]\n",
    "file = \"../pore_7.5_silanol_3.pdb\"\n",
    "\n",
    "for gcmc_path in paths :\n",
    "    all_frames = read(gcmc_path, index=':')\n",
    "    last_frame = all_frames[-1]\n",
    "    \n",
    "    #write_last(last_frame,\"../last.pdb\") #pdb h2o ok!\n",
    "    \n",
    "    \n",
    "    break\n",
    "\n",
    "lista = ['','','','']\n",
    "count = 0\n",
    "for indice,atom in enumerate(all_frames[-1]):\n",
    "    _symbol = atom.symbol\n",
    "    lista[count] = _symbol\n",
    "    \n",
    "    count +=1\n",
    "    count = count % 4\n",
    "    \n",
    "    if lista == ['O','H','H','O']:\n",
    "        break\n",
    "\n",
    "sio2 = all_frames[-1][:indice - 3]\n",
    "h2o = all_frames[-1][indice - 3:]\n",
    "\n",
    "h2o.write(\"h2o.pdb\")\n",
    "sio2.write(\"sio2.pdb\")"
   ]
  },
  {
   "cell_type": "code",
   "execution_count": 2,
   "id": "188e0094",
   "metadata": {},
   "outputs": [],
   "source": [
    "#file = open('/'.join(gcmc_path.split(\"/\")[:-1]) + \"/\" + gcmc_path.split(\"/\")[-2] + \".pdb\",'r').read().split(\"\\n\")\n"
   ]
  },
  {
   "cell_type": "code",
   "execution_count": 4,
   "id": "79f201e5",
   "metadata": {},
   "outputs": [],
   "source": [
    "#rename_oxygens_bonded_to_hydrogens(file,\"r_pore.pdb\",7.5,False,2,False)"
   ]
  },
  {
   "cell_type": "code",
   "execution_count": null,
   "id": "727098ab",
   "metadata": {},
   "outputs": [],
   "source": [
    "charges_file = None#\"\"\n",
    "pdb_file = \"r_pore.pdb\"\n",
    "axis = \"z\"\n",
    "buffer = 0.0\n",
    "buffer_length_orthogonal = 0.0\n",
    "pbc_bonds = True\n",
    "printdih = \"\"\n",
    "ignore_bonds_solute = True\n",
    "ignore_impropers = True\n",
    "box_size = \"\"\n",
    "supress_coeffs = \"\"\n",
    "atom_labels_pdb = True\n",
    "do_not_split_molecules = \"\"\n",
    "extra_impropers = \"\"\n",
    "\n",
    "lmpstring = parse_mol_info(pdb_file, charges_file,axis,buffer,buffer_length_orthogonal,\n",
    "                           pbc_bonds,printdih,ignore_bonds_solute,ignore_impropers,box_size,\n",
    "                           supress_coeffs,atom_labels_pdb,do_not_split_molecules,extra_impropers)\n",
    "\n"
   ]
  },
  {
   "cell_type": "code",
   "execution_count": 9,
   "id": "3bd582d9",
   "metadata": {},
   "outputs": [
    {
     "ename": "NameError",
     "evalue": "name 'lmpstring' is not defined",
     "output_type": "error",
     "traceback": [
      "\u001b[0;31m---------------------------------------------------------------------------\u001b[0m",
      "\u001b[0;31mNameError\u001b[0m                                 Traceback (most recent call last)",
      "Cell \u001b[0;32mIn[9], line 1\u001b[0m\n\u001b[0;32m----> 1\u001b[0m \u001b[38;5;28mprint\u001b[39m(\u001b[43mlmpstring\u001b[49m[:\u001b[38;5;241m1500\u001b[39m])\n",
      "\u001b[0;31mNameError\u001b[0m: name 'lmpstring' is not defined"
     ]
    }
   ],
   "source": [
    "print(lmpstring[:1500])"
   ]
  },
  {
   "cell_type": "code",
   "execution_count": null,
   "id": "1c8cbc7c",
   "metadata": {},
   "outputs": [],
   "source": []
  }
 ],
 "metadata": {
  "kernelspec": {
   "display_name": "Python 3",
   "language": "python",
   "name": "python3"
  },
  "language_info": {
   "codemirror_mode": {
    "name": "ipython",
    "version": 3
   },
   "file_extension": ".py",
   "mimetype": "text/x-python",
   "name": "python",
   "nbconvert_exporter": "python",
   "pygments_lexer": "ipython3",
   "version": "3.10.6"
  },
  "vscode": {
   "interpreter": {
    "hash": "916dbcbb3f70747c44a77c7bcd40155683ae19c65e1c03b4aa3499c5328201f1"
   }
  }
 },
 "nbformat": 4,
 "nbformat_minor": 5
}
